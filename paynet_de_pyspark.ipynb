{
  "metadata": {
    "kernelspec": {
      "language": "python",
      "display_name": "Python 3",
      "name": "python3"
    },
    "language_info": {
      "name": "python",
      "version": "3.10.13",
      "mimetype": "text/x-python",
      "codemirror_mode": {
        "name": "ipython",
        "version": 3
      },
      "pygments_lexer": "ipython3",
      "nbconvert_exporter": "python",
      "file_extension": ".py"
    },
    "kaggle": {
      "accelerator": "none",
      "dataSources": [
        {
          "sourceId": 9650685,
          "sourceType": "datasetVersion",
          "datasetId": 5894634
        }
      ],
      "dockerImageVersionId": 30749,
      "isInternetEnabled": false,
      "language": "python",
      "sourceType": "notebook",
      "isGpuEnabled": false
    },
    "colab": {
      "name": "paynet-de-pyspark",
      "provenance": []
    }
  },
  "nbformat_minor": 0,
  "nbformat": 4,
  "cells": [
    {
      "source": [
        "# IMPORTANT: RUN THIS CELL IN ORDER TO IMPORT YOUR KAGGLE DATA SOURCES,\n",
        "# THEN FEEL FREE TO DELETE THIS CELL.\n",
        "# NOTE: THIS NOTEBOOK ENVIRONMENT DIFFERS FROM KAGGLE'S PYTHON\n",
        "# ENVIRONMENT SO THERE MAY BE MISSING LIBRARIES USED BY YOUR\n",
        "# NOTEBOOK.\n",
        "import kagglehub\n",
        "jinquan_cc_sample_data_path = kagglehub.dataset_download('jinquan/cc-sample-data')\n",
        "\n",
        "print('Data source import complete.')\n",
        "print(jinquan_cc_sample_data_path)\n"
      ],
      "metadata": {
        "colab": {
          "base_uri": "https://localhost:8080/",
          "height": 0
        },
        "id": "pfAgIaAOxBPA",
        "outputId": "380a0ca5-dae9-422c-b55a-fb856062e3ee"
      },
      "cell_type": "code",
      "outputs": [
        {
          "output_type": "stream",
          "name": "stdout",
          "text": [
            "Data source import complete.\n",
            "/root/.cache/kagglehub/datasets/jinquan/cc-sample-data/versions/1\n"
          ]
        }
      ],
      "execution_count": 11
    },
    {
      "cell_type": "code",
      "source": [
        "import numpy as np # linear algebra\n",
        "import pandas as pd # data processing, CSV file I/O (e.g. pd.read_csv)\n",
        "\n",
        "data_path = '/root/.cache/kagglehub/datasets/jinquan/cc-sample-data/versions/1/cc_sample_transaction.json'\n",
        "import os\n",
        "for dirname, _, filenames in os.walk('/root/.cache/kagglehub/datasets/jinquan/cc-sample-data/versions/'):\n",
        "    for filename in filenames:\n",
        "        print(os.path.join(dirname, filename))"
      ],
      "metadata": {
        "_uuid": "048f8bcf-ce2f-493b-8089-bf9ae023393c",
        "_cell_guid": "89c6d552-b950-45a8-bda1-69b02ae34884",
        "trusted": true,
        "jupyter": {
          "outputs_hidden": false
        },
        "colab": {
          "base_uri": "https://localhost:8080/",
          "height": 0
        },
        "id": "c83fc_K0xBPC",
        "outputId": "1172e312-4465-440f-ea1f-e2601ccae323"
      },
      "outputs": [
        {
          "output_type": "stream",
          "name": "stdout",
          "text": [
            "/root/.cache/kagglehub/datasets/jinquan/cc-sample-data/versions/1/cc_sample_transaction.json\n"
          ]
        }
      ],
      "execution_count": 14
    },
    {
      "cell_type": "code",
      "source": [
        "!pip install pyspark"
      ],
      "metadata": {
        "colab": {
          "base_uri": "https://localhost:8080/",
          "height": 0
        },
        "id": "lzhcgUipxPRZ",
        "outputId": "48df8060-f97e-490a-cd52-7971e0a9c8db"
      },
      "execution_count": 15,
      "outputs": [
        {
          "output_type": "stream",
          "name": "stdout",
          "text": [
            "Requirement already satisfied: pyspark in /usr/local/lib/python3.11/dist-packages (3.5.4)\n",
            "Requirement already satisfied: py4j==0.10.9.7 in /usr/local/lib/python3.11/dist-packages (from pyspark) (0.10.9.7)\n"
          ]
        }
      ]
    },
    {
      "cell_type": "code",
      "source": [
        "!pip install ydata_profiling"
      ],
      "metadata": {
        "_uuid": "e01b5d65-85bb-4bf6-b348-c7063d19faff",
        "_cell_guid": "3190009c-e6af-4a41-bac4-b75fbaaca9c3",
        "trusted": true,
        "jupyter": {
          "outputs_hidden": false
        },
        "colab": {
          "base_uri": "https://localhost:8080/",
          "height": 0
        },
        "id": "yp7zi-hexBPC",
        "outputId": "480da92f-8d39-43ae-8f4f-810f70e7d3d9"
      },
      "outputs": [
        {
          "output_type": "stream",
          "name": "stdout",
          "text": [
            "Requirement already satisfied: ydata_profiling in /usr/local/lib/python3.11/dist-packages (4.12.2)\n",
            "Requirement already satisfied: scipy<1.16,>=1.4.1 in /usr/local/lib/python3.11/dist-packages (from ydata_profiling) (1.13.1)\n",
            "Requirement already satisfied: pandas!=1.4.0,<3,>1.1 in /usr/local/lib/python3.11/dist-packages (from ydata_profiling) (2.2.2)\n",
            "Requirement already satisfied: matplotlib>=3.5 in /usr/local/lib/python3.11/dist-packages (from ydata_profiling) (3.10.0)\n",
            "Requirement already satisfied: pydantic>=2 in /usr/local/lib/python3.11/dist-packages (from ydata_profiling) (2.10.6)\n",
            "Requirement already satisfied: PyYAML<6.1,>=5.0.0 in /usr/local/lib/python3.11/dist-packages (from ydata_profiling) (6.0.2)\n",
            "Requirement already satisfied: jinja2<3.2,>=2.11.1 in /usr/local/lib/python3.11/dist-packages (from ydata_profiling) (3.1.5)\n",
            "Requirement already satisfied: visions<0.8.0,>=0.7.5 in /usr/local/lib/python3.11/dist-packages (from visions[type_image_path]<0.8.0,>=0.7.5->ydata_profiling) (0.7.6)\n",
            "Requirement already satisfied: numpy<2.2,>=1.16.0 in /usr/local/lib/python3.11/dist-packages (from ydata_profiling) (1.26.4)\n",
            "Requirement already satisfied: htmlmin==0.1.12 in /usr/local/lib/python3.11/dist-packages (from ydata_profiling) (0.1.12)\n",
            "Requirement already satisfied: phik<0.13,>=0.11.1 in /usr/local/lib/python3.11/dist-packages (from ydata_profiling) (0.12.4)\n",
            "Requirement already satisfied: requests<3,>=2.24.0 in /usr/local/lib/python3.11/dist-packages (from ydata_profiling) (2.32.3)\n",
            "Requirement already satisfied: tqdm<5,>=4.48.2 in /usr/local/lib/python3.11/dist-packages (from ydata_profiling) (4.67.1)\n",
            "Requirement already satisfied: seaborn<0.14,>=0.10.1 in /usr/local/lib/python3.11/dist-packages (from ydata_profiling) (0.13.2)\n",
            "Requirement already satisfied: multimethod<2,>=1.4 in /usr/local/lib/python3.11/dist-packages (from ydata_profiling) (1.12)\n",
            "Requirement already satisfied: statsmodels<1,>=0.13.2 in /usr/local/lib/python3.11/dist-packages (from ydata_profiling) (0.14.4)\n",
            "Requirement already satisfied: typeguard<5,>=3 in /usr/local/lib/python3.11/dist-packages (from ydata_profiling) (4.4.2)\n",
            "Requirement already satisfied: imagehash==4.3.1 in /usr/local/lib/python3.11/dist-packages (from ydata_profiling) (4.3.1)\n",
            "Requirement already satisfied: wordcloud>=1.9.3 in /usr/local/lib/python3.11/dist-packages (from ydata_profiling) (1.9.4)\n",
            "Requirement already satisfied: dacite>=1.8 in /usr/local/lib/python3.11/dist-packages (from ydata_profiling) (1.9.2)\n",
            "Requirement already satisfied: PyWavelets in /usr/local/lib/python3.11/dist-packages (from imagehash==4.3.1->ydata_profiling) (1.8.0)\n",
            "Requirement already satisfied: pillow in /usr/local/lib/python3.11/dist-packages (from imagehash==4.3.1->ydata_profiling) (11.1.0)\n",
            "Requirement already satisfied: MarkupSafe>=2.0 in /usr/local/lib/python3.11/dist-packages (from jinja2<3.2,>=2.11.1->ydata_profiling) (3.0.2)\n",
            "Requirement already satisfied: contourpy>=1.0.1 in /usr/local/lib/python3.11/dist-packages (from matplotlib>=3.5->ydata_profiling) (1.3.1)\n",
            "Requirement already satisfied: cycler>=0.10 in /usr/local/lib/python3.11/dist-packages (from matplotlib>=3.5->ydata_profiling) (0.12.1)\n",
            "Requirement already satisfied: fonttools>=4.22.0 in /usr/local/lib/python3.11/dist-packages (from matplotlib>=3.5->ydata_profiling) (4.56.0)\n",
            "Requirement already satisfied: kiwisolver>=1.3.1 in /usr/local/lib/python3.11/dist-packages (from matplotlib>=3.5->ydata_profiling) (1.4.8)\n",
            "Requirement already satisfied: packaging>=20.0 in /usr/local/lib/python3.11/dist-packages (from matplotlib>=3.5->ydata_profiling) (24.2)\n",
            "Requirement already satisfied: pyparsing>=2.3.1 in /usr/local/lib/python3.11/dist-packages (from matplotlib>=3.5->ydata_profiling) (3.2.1)\n",
            "Requirement already satisfied: python-dateutil>=2.7 in /usr/local/lib/python3.11/dist-packages (from matplotlib>=3.5->ydata_profiling) (2.8.2)\n",
            "Requirement already satisfied: pytz>=2020.1 in /usr/local/lib/python3.11/dist-packages (from pandas!=1.4.0,<3,>1.1->ydata_profiling) (2025.1)\n",
            "Requirement already satisfied: tzdata>=2022.7 in /usr/local/lib/python3.11/dist-packages (from pandas!=1.4.0,<3,>1.1->ydata_profiling) (2025.1)\n",
            "Requirement already satisfied: joblib>=0.14.1 in /usr/local/lib/python3.11/dist-packages (from phik<0.13,>=0.11.1->ydata_profiling) (1.4.2)\n",
            "Requirement already satisfied: annotated-types>=0.6.0 in /usr/local/lib/python3.11/dist-packages (from pydantic>=2->ydata_profiling) (0.7.0)\n",
            "Requirement already satisfied: pydantic-core==2.27.2 in /usr/local/lib/python3.11/dist-packages (from pydantic>=2->ydata_profiling) (2.27.2)\n",
            "Requirement already satisfied: typing-extensions>=4.12.2 in /usr/local/lib/python3.11/dist-packages (from pydantic>=2->ydata_profiling) (4.12.2)\n",
            "Requirement already satisfied: charset-normalizer<4,>=2 in /usr/local/lib/python3.11/dist-packages (from requests<3,>=2.24.0->ydata_profiling) (3.4.1)\n",
            "Requirement already satisfied: idna<4,>=2.5 in /usr/local/lib/python3.11/dist-packages (from requests<3,>=2.24.0->ydata_profiling) (3.10)\n",
            "Requirement already satisfied: urllib3<3,>=1.21.1 in /usr/local/lib/python3.11/dist-packages (from requests<3,>=2.24.0->ydata_profiling) (2.3.0)\n",
            "Requirement already satisfied: certifi>=2017.4.17 in /usr/local/lib/python3.11/dist-packages (from requests<3,>=2.24.0->ydata_profiling) (2025.1.31)\n",
            "Requirement already satisfied: patsy>=0.5.6 in /usr/local/lib/python3.11/dist-packages (from statsmodels<1,>=0.13.2->ydata_profiling) (1.0.1)\n",
            "Requirement already satisfied: attrs>=19.3.0 in /usr/local/lib/python3.11/dist-packages (from visions<0.8.0,>=0.7.5->visions[type_image_path]<0.8.0,>=0.7.5->ydata_profiling) (25.1.0)\n",
            "Requirement already satisfied: networkx>=2.4 in /usr/local/lib/python3.11/dist-packages (from visions<0.8.0,>=0.7.5->visions[type_image_path]<0.8.0,>=0.7.5->ydata_profiling) (3.4.2)\n",
            "Requirement already satisfied: six>=1.5 in /usr/local/lib/python3.11/dist-packages (from python-dateutil>=2.7->matplotlib>=3.5->ydata_profiling) (1.17.0)\n"
          ]
        }
      ],
      "execution_count": 16
    },
    {
      "cell_type": "markdown",
      "source": [
        "## Basics Importing"
      ],
      "metadata": {
        "_uuid": "eddac65e-bc12-4339-a9ef-120b76b1a73b",
        "_cell_guid": "7214a22b-5da5-421e-803b-16a8f1eb093c",
        "trusted": true,
        "collapsed": false,
        "jupyter": {
          "outputs_hidden": false
        },
        "id": "v16ldfqdxBPC"
      }
    },
    {
      "cell_type": "code",
      "source": [
        "from pyspark.sql import SparkSession\n",
        "from pyspark.sql.functions import *\n",
        "from pyspark.sql.types import *\n",
        "\n",
        "\n",
        "spark = SparkSession.builder \\\n",
        "    .appName(\"CreditCardTransactions\") \\\n",
        "    .getOrCreate()\n",
        "\n",
        "df = spark.read.json(data_path)"
      ],
      "metadata": {
        "_uuid": "75643480-1c1e-4040-a00e-bb53a7b6ca8e",
        "_cell_guid": "f7f58d48-2a5d-4e0f-b686-d0a76a6908ab",
        "trusted": true,
        "jupyter": {
          "outputs_hidden": false
        },
        "id": "p8Lk-oz4xBPD"
      },
      "outputs": [],
      "execution_count": 17
    },
    {
      "cell_type": "markdown",
      "source": [
        "## Basics Profiling"
      ],
      "metadata": {
        "_uuid": "6a669b42-9e40-4f78-ba4a-a19d75771ddd",
        "_cell_guid": "2013316e-88c5-429f-a656-faf2aae3e1d9",
        "trusted": true,
        "collapsed": false,
        "jupyter": {
          "outputs_hidden": false
        },
        "id": "9KaD8xYqxBPD"
      }
    },
    {
      "cell_type": "code",
      "source": [
        "from ydata_profiling import ProfileReport\n",
        "print(\"===== DataFrame Schema =====\")\n",
        "df.printSchema()\n",
        "\n",
        "print(\"\\n===== Sample Data =====\")\n",
        "df.show(5, truncate=False,vertical=True)\n",
        "\n",
        "print(\"\\n===== Summary Statistics =====\")\n",
        "df.describe().show(vertical=True)\n",
        "\n",
        "df_sample = df.limit(10000).toPandas()\n",
        "\n",
        "# print(\"\\n===== Generating Auto-Profiling Report =====\")\n",
        "# profile = ProfileReport(df_sample, title=\"Credit Card Transactions Profiling Report\", explorative=True)\n",
        "# profile.to_file(\"/kaggle/working/data_profiling_report.html\")\n",
        "\n",
        "# print(\"Auto-profiling report saved as 'data_profiling_report.html'.\")"
      ],
      "metadata": {
        "_uuid": "8056283e-7638-4a6d-b0f8-67499361d4e7",
        "_cell_guid": "12f20c0d-9cd2-45eb-97b1-765d307f8596",
        "trusted": true,
        "jupyter": {
          "outputs_hidden": false
        },
        "colab": {
          "base_uri": "https://localhost:8080/",
          "height": 0
        },
        "id": "oSejKNCAxBPE",
        "outputId": "50454efc-660f-42a3-d2c9-0a38a1e0d3eb"
      },
      "outputs": [
        {
          "output_type": "stream",
          "name": "stdout",
          "text": [
            "===== DataFrame Schema =====\n",
            "root\n",
            " |-- Unnamed: 0: string (nullable = true)\n",
            " |-- amt: string (nullable = true)\n",
            " |-- category: string (nullable = true)\n",
            " |-- cc_bic: string (nullable = true)\n",
            " |-- cc_num: string (nullable = true)\n",
            " |-- is_fraud: string (nullable = true)\n",
            " |-- merch_eff_time: string (nullable = true)\n",
            " |-- merch_last_update_time: string (nullable = true)\n",
            " |-- merch_lat: string (nullable = true)\n",
            " |-- merch_long: string (nullable = true)\n",
            " |-- merch_zipcode: string (nullable = true)\n",
            " |-- merchant: string (nullable = true)\n",
            " |-- personal_detail: string (nullable = true)\n",
            " |-- trans_date_trans_time: string (nullable = true)\n",
            " |-- trans_num: string (nullable = true)\n",
            "\n",
            "\n",
            "===== Sample Data =====\n",
            "-RECORD 0-------------------------------------------------------------------------------------------------------------------------------------------------------------------------------------------------------------------------------------------------------------------------------------------------------\n",
            " Unnamed: 0             | 0                                                                                                                                                                                                                                                                                     \n",
            " amt                    | 4.97                                                                                                                                                                                                                                                                                  \n",
            " category               | misc_net                                                                                                                                                                                                                                                                              \n",
            " cc_bic                 | CITIUS33CHI                                                                                                                                                                                                                                                                           \n",
            " cc_num                 | 2703186189652095                                                                                                                                                                                                                                                                      \n",
            " is_fraud               | 0                                                                                                                                                                                                                                                                                     \n",
            " merch_eff_time         | 1325376018798532                                                                                                                                                                                                                                                                      \n",
            " merch_last_update_time | 1325376018666                                                                                                                                                                                                                                                                         \n",
            " merch_lat              | 36.011293                                                                                                                                                                                                                                                                             \n",
            " merch_long             | -82.048315                                                                                                                                                                                                                                                                            \n",
            " merch_zipcode          | 28705                                                                                                                                                                                                                                                                                 \n",
            " merchant               | fraud_Rippin, Kub and Mann                                                                                                                                                                                                                                                            \n",
            " personal_detail        | {\"person_name\":\"Jennifer,Banks,eeeee\",\"gender\":\"F\",\"address\":\"{\\\"street\\\":\\\"561 Perry Cove\\\",\\\"city\\\":\\\"Moravian Falls\\\",\\\"state\\\":\\\"NC\\\",\\\"zip\\\":\\\"28654\\\"}\",\"lat\":\"36.0788\",\"long\":\"-81.1781\",\"city_pop\":\"3495\",\"job\":\"Psychologist, counselling\",\"dob\":\"1988-03-09\"}               \n",
            " trans_date_trans_time  | 2019-01-01 00:00:18                                                                                                                                                                                                                                                                   \n",
            " trans_num              | 0b242abb623afc578575680df30655b9                                                                                                                                                                                                                                                      \n",
            "-RECORD 1-------------------------------------------------------------------------------------------------------------------------------------------------------------------------------------------------------------------------------------------------------------------------------------------------------\n",
            " Unnamed: 0             | 1                                                                                                                                                                                                                                                                                     \n",
            " amt                    | 107.23                                                                                                                                                                                                                                                                                \n",
            " category               | grocery_pos                                                                                                                                                                                                                                                                           \n",
            " cc_bic                 | ADMDUS41                                                                                                                                                                                                                                                                              \n",
            " cc_num                 | 630423337322                                                                                                                                                                                                                                                                          \n",
            " is_fraud               | 0                                                                                                                                                                                                                                                                                     \n",
            " merch_eff_time         | 1325376044867960                                                                                                                                                                                                                                                                      \n",
            " merch_last_update_time | 132537604479                                                                                                                                                                                                                                                                          \n",
            " merch_lat              | 49.159046999999994                                                                                                                                                                                                                                                                    \n",
            " merch_long             | -118.186462                                                                                                                                                                                                                                                                           \n",
            " merch_zipcode          | NULL                                                                                                                                                                                                                                                                                  \n",
            " merchant               | fraud_Heller, Gutmann and Zieme                                                                                                                                                                                                                                                       \n",
            " personal_detail        | {\"person_name\":\"Stephanie,Gill,eeeee\",\"gender\":\"F\",\"address\":\"{\\\"street\\\":\\\"43039 Riley Greens Suite 393\\\",\\\"city\\\":\\\"Orient\\\",\\\"state\\\":\\\"WA\\\",\\\"zip\\\":\\\"99160\\\"}\",\"lat\":\"48.8878\",\"long\":\"-118.2105\",\"city_pop\":\"149\",\"job\":\"Special educational needs teacher\",\"dob\":\"1978-06-21\"} \n",
            " trans_date_trans_time  | 2019-01-01 00:00:44                                                                                                                                                                                                                                                                   \n",
            " trans_num              | 1f76529f8574734946361c461b024d99                                                                                                                                                                                                                                                      \n",
            "-RECORD 2-------------------------------------------------------------------------------------------------------------------------------------------------------------------------------------------------------------------------------------------------------------------------------------------------------\n",
            " Unnamed: 0             | 2                                                                                                                                                                                                                                                                                     \n",
            " amt                    | 220.11                                                                                                                                                                                                                                                                                \n",
            " category               | entertainment                                                                                                                                                                                                                                                                         \n",
            " cc_bic                 | Null                                                                                                                                                                                                                                                                                  \n",
            " cc_num                 | 38859492057661                                                                                                                                                                                                                                                                        \n",
            " is_fraud               | 0                                                                                                                                                                                                                                                                                     \n",
            " merch_eff_time         | 1325376051506840                                                                                                                                                                                                                                                                      \n",
            " merch_last_update_time | 1325376051286                                                                                                                                                                                                                                                                         \n",
            " merch_lat              | 43.150704                                                                                                                                                                                                                                                                             \n",
            " merch_long             | -112.154481                                                                                                                                                                                                                                                                           \n",
            " merch_zipcode          | 83236                                                                                                                                                                                                                                                                                 \n",
            " merchant               | fraud_Lind-Buckridge                                                                                                                                                                                                                                                                  \n",
            " personal_detail        | {\"person_name\":\"Edward@Sanchez\",\"gender\":\"M\",\"address\":\"{\\\"street\\\":\\\"594 White Dale Suite 530\\\",\\\"city\\\":\\\"Malad City\\\",\\\"state\\\":\\\"ID\\\",\\\"zip\\\":\\\"83252\\\"}\",\"lat\":\"42.1808\",\"long\":\"-112.262\",\"city_pop\":\"4154\",\"job\":\"Nature conservation officer\",\"dob\":\"1962-01-19\"}             \n",
            " trans_date_trans_time  | 2019-01-01 00:00:51                                                                                                                                                                                                                                                                   \n",
            " trans_num              | a1a22d70485983eac12b5b88dad1cf95                                                                                                                                                                                                                                                      \n",
            "-RECORD 3-------------------------------------------------------------------------------------------------------------------------------------------------------------------------------------------------------------------------------------------------------------------------------------------------------\n",
            " Unnamed: 0             | 3                                                                                                                                                                                                                                                                                     \n",
            " amt                    | 45.0                                                                                                                                                                                                                                                                                  \n",
            " category               | gas_transport                                                                                                                                                                                                                                                                         \n",
            " cc_bic                 | DEUTUS33TRF                                                                                                                                                                                                                                                                           \n",
            " cc_num                 | 3534093764340240                                                                                                                                                                                                                                                                      \n",
            " is_fraud               | 0                                                                                                                                                                                                                                                                                     \n",
            " merch_eff_time         | 1325376076794698                                                                                                                                                                                                                                                                      \n",
            " merch_last_update_time | 1325376076365                                                                                                                                                                                                                                                                         \n",
            " merch_lat              | 47.034331                                                                                                                                                                                                                                                                             \n",
            " merch_long             | -112.561071                                                                                                                                                                                                                                                                           \n",
            " merch_zipcode          | NULL                                                                                                                                                                                                                                                                                  \n",
            " merchant               | fraud_Kutch, Hermiston and Farrell                                                                                                                                                                                                                                                    \n",
            " personal_detail        | {\"person_name\":\"Jeremy/White, !\",\"gender\":\"M\",\"address\":\"{\\\"street\\\":\\\"9443 Cynthia Court Apt. 038\\\",\\\"city\\\":\\\"Boulder\\\",\\\"state\\\":\\\"MT\\\",\\\"zip\\\":\\\"59632\\\"}\",\"lat\":\"46.2306\",\"long\":\"-112.1138\",\"city_pop\":\"1939\",\"job\":\"Patent attorney\",\"dob\":\"1967-01-12\"}                       \n",
            " trans_date_trans_time  | 2019-01-01 00:01:16                                                                                                                                                                                                                                                                   \n",
            " trans_num              | 6b849c168bdad6f867558c3793159a81                                                                                                                                                                                                                                                      \n",
            "-RECORD 4-------------------------------------------------------------------------------------------------------------------------------------------------------------------------------------------------------------------------------------------------------------------------------------------------------\n",
            " Unnamed: 0             | 4                                                                                                                                                                                                                                                                                     \n",
            " amt                    | 41.96                                                                                                                                                                                                                                                                                 \n",
            " category               | misc_pos                                                                                                                                                                                                                                                                              \n",
            " cc_bic                 | APBCUS61                                                                                                                                                                                                                                                                              \n",
            " cc_num                 | 375534208663984                                                                                                                                                                                                                                                                       \n",
            " is_fraud               | 0                                                                                                                                                                                                                                                                                     \n",
            " merch_eff_time         | 1325376186746376                                                                                                                                                                                                                                                                      \n",
            " merch_last_update_time | 132537618681                                                                                                                                                                                                                                                                          \n",
            " merch_lat              | 38.674999                                                                                                                                                                                                                                                                             \n",
            " merch_long             | -78.632459                                                                                                                                                                                                                                                                            \n",
            " merch_zipcode          | 22844                                                                                                                                                                                                                                                                                 \n",
            " merchant               | fraud_Keeling-Crist                                                                                                                                                                                                                                                                   \n",
            " personal_detail        | {\"person_name\":\"Tyler@Garcia\",\"gender\":\"M\",\"address\":\"{\\\"street\\\":\\\"408 Bradley Rest\\\",\\\"city\\\":\\\"Doe Hill\\\",\\\"state\\\":\\\"VA\\\",\\\"zip\\\":\\\"24433\\\"}\",\"lat\":\"38.4207\",\"long\":\"-79.4629\",\"city_pop\":\"99\",\"job\":\"Dance movement psychotherapist\",\"dob\":\"1986-03-28\"}                        \n",
            " trans_date_trans_time  | 2019-01-01 00:03:06                                                                                                                                                                                                                                                                   \n",
            " trans_num              | a41d7549acf90789359a9aa5346dcb46                                                                                                                                                                                                                                                      \n",
            "only showing top 5 rows\n",
            "\n",
            "\n",
            "===== Summary Statistics =====\n",
            "-RECORD 0--------------------------------------\n",
            " summary                | count                \n",
            " Unnamed: 0             | 1296675              \n",
            " amt                    | 1296675              \n",
            " category               | 1296675              \n",
            " cc_bic                 | 1296675              \n",
            " cc_num                 | 1296675              \n",
            " is_fraud               | 1296675              \n",
            " merch_eff_time         | 1296675              \n",
            " merch_last_update_time | 1296675              \n",
            " merch_lat              | 1296675              \n",
            " merch_long             | 1296675              \n",
            " merch_zipcode          | 1100702              \n",
            " merchant               | 1296675              \n",
            " personal_detail        | 1296675              \n",
            " trans_date_trans_time  | 1296675              \n",
            " trans_num              | 1296675              \n",
            "-RECORD 1--------------------------------------\n",
            " summary                | mean                 \n",
            " Unnamed: 0             | 648337.0             \n",
            " amt                    | 70.35103545607025    \n",
            " category               | NULL                 \n",
            " cc_bic                 | NULL                 \n",
            " cc_num                 | 4.171920420796760... \n",
            " is_fraud               | 0.005788651743883394 \n",
            " merch_eff_time         | 1.226971654789970... \n",
            " merch_last_update_time | 1.226790968939934... \n",
            " merch_lat              | 38.53733804469964    \n",
            " merch_long             | -90.2264647989727    \n",
            " merch_zipcode          | 46825.75415053302    \n",
            " merchant               | NULL                 \n",
            " personal_detail        | NULL                 \n",
            " trans_date_trans_time  | NULL                 \n",
            " trans_num              | Infinity             \n",
            "-RECORD 2--------------------------------------\n",
            " summary                | stddev               \n",
            " Unnamed: 0             | 374317.9744882685    \n",
            " amt                    | 160.31603857152763   \n",
            " category               | NULL                 \n",
            " cc_bic                 | NULL                 \n",
            " cc_num                 | 1.308806447000240... \n",
            " is_fraud               | 0.07586268973125175  \n",
            " merch_eff_time         | 3.678596149934447E14 \n",
            " merch_last_update_time | 3.68057477577884E11  \n",
            " merch_lat              | 5.109788369679179    \n",
            " merch_long             | 13.771090564792415   \n",
            " merch_zipcode          | 25834.001159599786   \n",
            " merchant               | NULL                 \n",
            " personal_detail        | NULL                 \n",
            " trans_date_trans_time  | NULL                 \n",
            " trans_num              | NaN                  \n",
            "-RECORD 3--------------------------------------\n",
            " summary                | min                  \n",
            " Unnamed: 0             | 0                    \n",
            " amt                    | 1.0                  \n",
            " category               | entertainment        \n",
            " cc_bic                 |                      \n",
            " cc_num                 | 180011453250192      \n",
            " is_fraud               | 0                    \n",
            " merch_eff_time         | 1325376018798532     \n",
            " merch_last_update_time | 1325376018666        \n",
            " merch_lat              | 19.027785            \n",
            " merch_long             | -100.000064          \n",
            " merch_zipcode          | 01001                \n",
            " merchant               | fraud_Abbott-Rogahn  \n",
            " personal_detail        | {\"person_name\":\"A... \n",
            " trans_date_trans_time  | 2019-01-01 00:00:18  \n",
            " trans_num              | 00000ecad06b03d3a... \n",
            "-RECORD 4--------------------------------------\n",
            " summary                | max                  \n",
            " Unnamed: 0             | 999999               \n",
            " amt                    | 9999.39              \n",
            " category               | travel               \n",
            " cc_bic                 | Null                 \n",
            " cc_num                 | 676372984911         \n",
            " is_fraud               | 1                    \n",
            " merch_eff_time         | 1371816817420462     \n",
            " merch_last_update_time | 1371816817611        \n",
            " merch_lat              | 67.510267            \n",
            " merch_long             | -99.999914           \n",
            " merch_zipcode          | 99403                \n",
            " merchant               | fraud_Zulauf LLC     \n",
            " personal_detail        | {\"person_name\":\"Z... \n",
            " trans_date_trans_time  | 2020-06-21 12:13:37  \n",
            " trans_num              | ffffef9d89e7d02d8... \n",
            "\n"
          ]
        }
      ],
      "execution_count": 18
    },
    {
      "cell_type": "markdown",
      "source": [
        "## Column Parsing and Formatting\n",
        "Since `personal_detail` is a json string, I have to parse it using `StructType`\n",
        "Finally, I flatten all parsed fields into a huge dataframe object with the destructured columns."
      ],
      "metadata": {
        "_uuid": "4a2b696d-adcd-4258-8f59-c778748bf671",
        "_cell_guid": "72366786-b3de-40d9-803f-a31c7b71c62c",
        "trusted": true,
        "collapsed": false,
        "jupyter": {
          "outputs_hidden": false
        },
        "id": "WCIp1N3DxBPE"
      }
    },
    {
      "cell_type": "code",
      "source": [
        "personal_schema = StructType([\n",
        "    StructField(\"person_name\", StringType()),\n",
        "    StructField(\"gender\", StringType()),\n",
        "    StructField(\"address\", StringType()),\n",
        "    StructField(\"lat\", StringType()),\n",
        "    StructField(\"long\", StringType()),\n",
        "    StructField(\"city_pop\", StringType()),\n",
        "    StructField(\"job\", StringType()),\n",
        "    StructField(\"dob\", StringType())\n",
        "])\n",
        "\n",
        "address_schema = StructType([\n",
        "    StructField(\"street\", StringType()),\n",
        "    StructField(\"city\", StringType()),\n",
        "    StructField(\"state\", StringType()),\n",
        "    StructField(\"zip\", StringType())\n",
        "])\n",
        "\n",
        "df = df.withColumn(\"personal_detail\", from_json(col(\"personal_detail\"), personal_schema)) \\\n",
        "       .withColumn(\"address\", from_json(col(\"personal_detail.address\"), address_schema))\n",
        "\n",
        "df = df.select(\n",
        "    col(\"Unnamed: 0\").alias(\"id\"),\n",
        "    col(\"trans_date_trans_time\"),\n",
        "    col(\"cc_num\"),\n",
        "    col(\"merchant\"),\n",
        "    col(\"category\"),\n",
        "    col(\"amt\"),\n",
        "    col(\"personal_detail.person_name\").alias(\"person_name\"),\n",
        "    col(\"personal_detail.gender\").alias(\"gender\"),\n",
        "    col(\"address.street\").alias(\"street\"),\n",
        "    col(\"address.city\").alias(\"city\"),\n",
        "    col(\"address.state\").alias(\"state\"),\n",
        "    col(\"address.zip\").alias(\"zip\"),\n",
        "    col(\"personal_detail.lat\").alias(\"lat\"),\n",
        "    col(\"personal_detail.long\").alias(\"long\"),\n",
        "    col(\"personal_detail.city_pop\").alias(\"city_pop\"),\n",
        "    col(\"personal_detail.job\").alias(\"job\"),\n",
        "    col(\"personal_detail.dob\").alias(\"dob\"),\n",
        "    col(\"trans_num\"),\n",
        "    col(\"merch_lat\"),\n",
        "    col(\"merch_long\"),\n",
        "    col(\"is_fraud\"),\n",
        "    col(\"merch_zipcode\"),\n",
        "    col(\"merch_last_update_time\"),\n",
        "    col(\"merch_eff_time\"),\n",
        "    col(\"cc_bic\")\n",
        ")"
      ],
      "metadata": {
        "_uuid": "095e4e2e-4497-4a1d-a0ff-b67f6d8ab23a",
        "_cell_guid": "fdc05baf-8fba-4f17-b320-7cd9b81dc184",
        "trusted": true,
        "jupyter": {
          "outputs_hidden": false
        },
        "id": "0cPyj5lwxBPE"
      },
      "outputs": [],
      "execution_count": 19
    },
    {
      "cell_type": "markdown",
      "source": [
        "## For handling PII Data\n",
        "\n",
        "For PII Data, there are several ways to handle them.\n",
        "1. I can either mask them with mask string '**** 1243'\n",
        "2. Hash the field.\n",
        "\n",
        "I choose to hash the column because it's reversible and I can get decode the original data."
      ],
      "metadata": {
        "_uuid": "a71f8355-12bf-437c-9df1-4655760cd9c4",
        "_cell_guid": "5a9513d5-abe4-482c-a369-9148a92bd0b1",
        "trusted": true,
        "collapsed": false,
        "jupyter": {
          "outputs_hidden": false
        },
        "id": "tRQo0WoTxBPE"
      }
    },
    {
      "cell_type": "code",
      "source": [
        "# Handle PII Data (Hashing Sensitive Columns)\n",
        "pii_columns = [\"cc_num\", \"street\", \"dob\", \"job\"]\n",
        "\n",
        "for column in pii_columns:\n",
        "    df = df.withColumn(column, sha2(col(column), 256))\n",
        "\n",
        "\n",
        "\n",
        "df = df.withColumn(\"person_name_cleaned\", regexp_replace(col(\"person_name\"), \"[^a-zA-Z]\", \",\")) \\\n",
        "       .withColumn(\"tmp_split\", split(col(\"person_name_cleaned\"), \",\")) \\\n",
        "       .withColumn(\"first\", trim(col(\"tmp_split\")[0])) \\\n",
        "       .withColumn(\"last\", trim(col(\"tmp_split\")[1])) \\\n",
        "       .drop(\"tmp_split\", \"person_name\", \"person_name_cleaned\")\n",
        "\n",
        "df = df.withColumn(\"first\", sha2(col(\"first\"), 256)) \\\n",
        "       .withColumn(\"last\", sha2(col(\"last\"), 256))"
      ],
      "metadata": {
        "_uuid": "42d07fa8-b564-4362-bfe5-7705e8f549a3",
        "_cell_guid": "c9bb5700-08f0-4460-80eb-708c15173879",
        "trusted": true,
        "jupyter": {
          "outputs_hidden": false
        },
        "id": "jwxEDqk-xBPE"
      },
      "outputs": [],
      "execution_count": 20
    },
    {
      "cell_type": "markdown",
      "source": [
        "## Handling Timestamps\n",
        "I cast everything into timestamp then convert to TC+8"
      ],
      "metadata": {
        "_uuid": "9d3713b6-9393-4538-ac18-7110a9475335",
        "_cell_guid": "4caa5ee9-1ad1-4a43-a180-4b89839176bc",
        "trusted": true,
        "collapsed": false,
        "jupyter": {
          "outputs_hidden": false
        },
        "id": "i0LESF69xBPE"
      }
    },
    {
      "cell_type": "code",
      "source": [
        "# Convert Timestamps to UTC+8\n",
        "df = df.withColumn(\"trans_date_trans_time\",\n",
        "                   from_utc_timestamp(to_timestamp(col(\"trans_date_trans_time\"), \"yyyy-MM-dd HH:mm:ss\"), \"UTC+8\"))\n",
        "\n",
        "df = df.withColumn(\"merch_last_update_time\",\n",
        "                   from_utc_timestamp(from_unixtime(col(\"merch_last_update_time\").cast(\"double\")/1000), \"UTC+8\")) \\\n",
        "       .withColumn(\"merch_eff_time\",\n",
        "                   from_utc_timestamp(from_unixtime(col(\"merch_eff_time\").cast(\"double\")/1e6), \"UTC+8\"))"
      ],
      "metadata": {
        "_uuid": "a78e7606-52a3-46d5-84dd-14f069bfe9cd",
        "_cell_guid": "3a7b1aa7-0af0-4a70-be38-4980409cb565",
        "trusted": true,
        "jupyter": {
          "outputs_hidden": false
        },
        "id": "0da1T8I4xBPF"
      },
      "outputs": [],
      "execution_count": 21
    },
    {
      "cell_type": "markdown",
      "source": [
        "# Data Quality Cleaning\n",
        "Here, I choose to drop rows where is_fraud is null. This is simply for data quality checks, and for further visualization for meaningful insights.\n",
        "Otherwise, we can choose to not drop the rows too."
      ],
      "metadata": {
        "_uuid": "f1ab5ee5-1222-4160-9684-0380065a42a8",
        "_cell_guid": "ac818325-89b2-4fc8-83af-8be47395939e",
        "trusted": true,
        "collapsed": false,
        "jupyter": {
          "outputs_hidden": false
        },
        "id": "-lfMWcQ_xBPF"
      }
    },
    {
      "cell_type": "code",
      "source": [
        "# Data Quality\n",
        "df = df.withColumn(\"amt\", col(\"amt\").cast(\"double\")) \\\n",
        "       .withColumn(\"city_pop\", col(\"city_pop\").cast(\"integer\"))\n",
        "\n",
        "df = df.withColumn(\"is_fraud\", when(col(\"is_fraud\").isin([\"0\", \"1\"]), col(\"is_fraud\")).otherwise(None))\n",
        "\n",
        "df = df.na.drop(subset=[\"cc_num\", \"amt\", \"is_fraud\"])"
      ],
      "metadata": {
        "_uuid": "a66b9b43-b010-47ce-beea-c26772c916d5",
        "_cell_guid": "ef71b8ed-5156-4f12-8ed1-4498697cff19",
        "trusted": true,
        "jupyter": {
          "outputs_hidden": false
        },
        "id": "nJFWXHRJxBPF"
      },
      "outputs": [],
      "execution_count": 22
    },
    {
      "cell_type": "markdown",
      "source": [
        "## For the visualization\n",
        "Since some fields are hashed for PII purpose, I choose to focus on the fraud distribution statistics.\n",
        "From the visualization below we can see most of the transaction are non-fraudulent.\n",
        "Also, transaction amount of fraudulent transaction greatly exceeds non-fraudulent ones."
      ],
      "metadata": {
        "_uuid": "88a1deb7-ea7e-4304-997c-d7d2ba77c20d",
        "_cell_guid": "19bf8224-1408-4956-8822-b5d7f056650a",
        "trusted": true,
        "collapsed": false,
        "jupyter": {
          "outputs_hidden": false
        },
        "id": "xZ-Pd33oxBPF"
      }
    },
    {
      "cell_type": "code",
      "source": [
        "fraud_counts = df.groupBy(\"is_fraud\").count().toPandas()"
      ],
      "metadata": {
        "_uuid": "eab2018d-ca8d-4168-98af-290a6b69fa02",
        "_cell_guid": "aa17a7f6-5a03-42bd-a161-591e213b3317",
        "trusted": true,
        "jupyter": {
          "outputs_hidden": false
        },
        "id": "0_1qihU_xBPF"
      },
      "outputs": [],
      "execution_count": 23
    },
    {
      "cell_type": "code",
      "source": [
        "import matplotlib.pyplot as plt\n",
        "import seaborn as sns\n",
        "\n",
        "plt.figure(figsize=(8,5))\n",
        "sns.barplot(x='is_fraud', y='count', data=fraud_counts)\n",
        "plt.title(\"Fraud vs Legitimate Transactions\")\n",
        "plt.show()\n",
        "\n",
        "amt_stats = df.groupBy(\"is_fraud\").agg(mean(\"amt\"), stddev(\"amt\")).toPandas()\n",
        "\n",
        "plt.figure(figsize=(10,6))\n",
        "sns.boxplot(x='is_fraud', y='amt', data=df.sample(0.1).toPandas())\n",
        "plt.ylim(0, 1000)\n",
        "plt.title(\"Transaction Amount Distribution by Fraud Status\")\n",
        "plt.show()"
      ],
      "metadata": {
        "_uuid": "7d9256e1-616b-4510-9958-c78b2f442922",
        "_cell_guid": "86536c2b-9f19-41a1-b55c-f9fa41159c74",
        "trusted": true,
        "jupyter": {
          "outputs_hidden": false
        },
        "colab": {
          "base_uri": "https://localhost:8080/",
          "height": 1034
        },
        "id": "LuldqlECxBPF",
        "outputId": "4796c9a0-8fe9-4cda-a751-04026d281610"
      },
      "outputs": [
        {
          "output_type": "display_data",
          "data": {
            "text/plain": [
              "<Figure size 800x500 with 1 Axes>"
            ],
            "image/png": "[encoded data removed]"
          },
          "metadata": {}
        },
        {
          "output_type": "display_data",
          "data": {
            "text/plain": [
              "<Figure size 1000x600 with 1 Axes>"
            ],
            "image/png": "[encoded data removed]"
          },
          "metadata": {}
        }
      ],
      "execution_count": 24
    },
    {
      "cell_type": "markdown",
      "source": [
        "## More data quality and integrity checks\n",
        "We can specify more constraints in the pipeline, and log the errors.\n",
        "\n",
        "Due to time constraints, this is not fully integrated in the pipeline."
      ],
      "metadata": {
        "_uuid": "066721e7-d714-4486-a9d5-7da79f66e40e",
        "_cell_guid": "28ee2590-2a94-4613-bbed-09e56e216461",
        "trusted": true,
        "collapsed": false,
        "jupyter": {
          "outputs_hidden": false
        },
        "id": "4iBT6_W4xBPF"
      }
    },
    {
      "cell_type": "code",
      "source": [
        "from pyspark.sql.functions import col, when, lit\n",
        "from functools import reduce\n",
        "\n",
        "validation_rules = {\n",
        "    \"cc_num\": col(\"cc_num\").rlike(r\"^\\d{16}$\"),  # Must be 16 digits\n",
        "    \"amt\": col(\"amt\") > 0,  # Must be positive\n",
        "    \"is_fraud\": col(\"is_fraud\").isin([\"0\", \"1\"]),  # Must be 0 or 1\n",
        "    \"dob\": col(\"dob\").rlike(r\"^\\d{4}-\\d{2}-\\d{2}$\"),  # Must be a valid date format\n",
        "    \"city_pop\": col(\"city_pop\") >= 0,  # Must be non-negative\n",
        "    \"lat\": (col(\"lat\").cast(\"double\").between(-90, 90)),  # Must be valid latitude\n",
        "    \"long\": (col(\"long\").cast(\"double\").between(-180, 180))  # Must be valid longitude\n",
        "}\n",
        "\n",
        "\n",
        "validation_condition = reduce(\n",
        "    lambda a, b: a & b,\n",
        "    [when(rule, lit(True)).otherwise(lit(False)) for rule in validation_rules.values()]\n",
        ")\n",
        "\n",
        "error_log = df.select(\"*\").where(~validation_condition)\n",
        "\n",
        "\n",
        "error_count = error_log.count()\n",
        "print(f\"Number of rows with errors: {error_count}\")\n",
        "\n",
        "error_log.show(5)"
      ],
      "metadata": {
        "_uuid": "b610daab-3f6d-497e-a277-a2383fd68c63",
        "_cell_guid": "6612d993-7d28-428f-adba-e4e9f424a48b",
        "trusted": true,
        "jupyter": {
          "outputs_hidden": false
        },
        "colab": {
          "base_uri": "https://localhost:8080/",
          "height": 0
        },
        "id": "W-3J1sWcxBPF",
        "outputId": "2c1fd7d4-b807-476a-e790-3d3bce3a027b"
      },
      "outputs": [
        {
          "output_type": "stream",
          "name": "stdout",
          "text": [
            "Number of rows with errors: 1296675\n",
            "+---+---------------------+--------------------+--------------------+-------------+------+------+--------------------+--------------+-----+-----+-------+---------+--------+--------------------+--------------------+--------------------+------------------+-----------+--------+-------------+----------------------+-------------------+-----------+--------------------+--------------------+\n",
            "| id|trans_date_trans_time|              cc_num|            merchant|     category|   amt|gender|              street|          city|state|  zip|    lat|     long|city_pop|                 job|                 dob|           trans_num|         merch_lat| merch_long|is_fraud|merch_zipcode|merch_last_update_time|     merch_eff_time|     cc_bic|               first|                last|\n",
            "+---+---------------------+--------------------+--------------------+-------------+------+------+--------------------+--------------+-----+-----+-------+---------+--------+--------------------+--------------------+--------------------+------------------+-----------+--------+-------------+----------------------+-------------------+-----------+--------------------+--------------------+\n",
            "|  0|  2019-01-01 08:00:18|80923ef01336409c8...|fraud_Rippin, Kub...|     misc_net|  4.97|     F|41d1806600fe3193f...|Moravian Falls|   NC|28654|36.0788| -81.1781|    3495|89fb0ae14a04ebb8b...|2f2658e159aa09cbb...|0b242abb623afc578...|         36.011293| -82.048315|       0|        28705|   2012-01-01 08:00:18|2012-01-01 08:00:18|CITIUS33CHI|bda0a01c76aae97ef...|0959e9bdd3051a415...|\n",
            "|  1|  2019-01-01 08:00:44|f80a8e60a9f15ecf1...|fraud_Heller, Gut...|  grocery_pos|107.23|     F|aff1802dbeae07dab...|        Orient|   WA|99160|48.8878|-118.2105|     149|d534196b38fc78500...|c39601b44276d345c...|1f76529f857473494...|49.159046999999994|-118.186462|       0|         NULL|   1974-03-15 08:00:04|2012-01-01 08:00:44|   ADMDUS41|6307ab01368bdf95d...|7cb75541ff2bcd400...|\n",
            "|  2|  2019-01-01 08:00:51|756a303c0348d0ebb...|fraud_Lind-Buckridge|entertainment|220.11|     M|674a2376d747e43a0...|    Malad City|   ID|83252|42.1808| -112.262|    4154|476703800380ad045...|2a9df50aad6308453...|a1a22d70485983eac...|         43.150704|-112.154481|       0|        83236|   2012-01-01 08:00:51|2012-01-01 08:00:51|       Null|34405d46cb25925bf...|1cdcfc3885f538bc4...|\n",
            "|  3|  2019-01-01 08:01:16|374dcb008121abf2b...|fraud_Kutch, Herm...|gas_transport|  45.0|     M|bfac23de044b241ba...|       Boulder|   MT|59632|46.2306|-112.1138|    1939|15da42d0014f9c2d6...|76f5ecbd5b7ab5775...|6b849c168bdad6f86...|         47.034331|-112.561071|       0|         NULL|   2012-01-01 08:01:16|2012-01-01 08:01:16|DEUTUS33TRF|8d289ec537b6e2edd...|3495e757855a5c678...|\n",
            "|  4|  2019-01-01 08:03:06|7f921c03617da9920...| fraud_Keeling-Crist|     misc_pos| 41.96|     M|eb6a57db860b9aec4...|      Doe Hill|   VA|24433|38.4207| -79.4629|      99|c7df2b72a2f696915...|a94821a674ffb575d...|a41d7549acf907893...|         38.674999| -78.632459|       0|        22844|   1974-03-15 08:00:18|2012-01-01 08:03:06|   APBCUS61|a435e2d26d33b5972...|2c3aaefea8267c668...|\n",
            "+---+---------------------+--------------------+--------------------+-------------+------+------+--------------------+--------------+-----+-----+-------+---------+--------+--------------------+--------------------+--------------------+------------------+-----------+--------+-------------+----------------------+-------------------+-----------+--------------------+--------------------+\n",
            "only showing top 5 rows\n",
            "\n"
          ]
        }
      ],
      "execution_count": 25
    },
    {
      "cell_type": "code",
      "source": [],
      "metadata": {
        "id": "RrUNk6n7yaIq"
      },
      "execution_count": null,
      "outputs": []
    }
  ]
}